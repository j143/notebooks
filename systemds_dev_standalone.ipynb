{
  "nbformat": 4,
  "nbformat_minor": 0,
  "metadata": {
    "colab": {
      "name": "SystemDS on Colaboratory.ipynb",
      "provenance": [],
      "collapsed_sections": [],
      "toc_visible": true,
      "include_colab_link": true
    },
    "kernelspec": {
      "name": "python3",
      "display_name": "Python 3"
    }
  },
  "cells": [
    {
      "cell_type": "markdown",
      "metadata": {
        "id": "view-in-github",
        "colab_type": "text"
      },
      "source": [
        "<a href=\"https://colab.research.google.com/github/j143/notebooks/blob/master/systemds_dev_standalone.ipynb\" target=\"_parent\"><img src=\"https://colab.research.google.com/assets/colab-badge.svg\" alt=\"Open In Colab\"/></a>"
      ]
    },
    {
      "cell_type": "markdown",
      "metadata": {
        "id": "_BbCdLjRoy2A",
        "colab_type": "text"
      },
      "source": [
        "## Developer notebook for Apache SystemDS"
      ]
    },
    {
      "cell_type": "code",
      "metadata": {
        "id": "I76oWp7foiyF",
        "colab_type": "code",
        "colab": {}
      },
      "source": [
        ""
      ],
      "execution_count": null,
      "outputs": []
    },
    {
      "cell_type": "markdown",
      "metadata": {
        "id": "kvD4HBMi0ohY",
        "colab_type": "text"
      },
      "source": [
        "#### Install Java\n",
        "This installs Java 8 of Open JDK"
      ]
    },
    {
      "cell_type": "code",
      "metadata": {
        "id": "fUhBhrGmyAvs",
        "colab_type": "code",
        "colab": {}
      },
      "source": [
        "!apt-get install openjdk-8-jdk-headless -qq > /dev/null"
      ],
      "execution_count": 1,
      "outputs": []
    },
    {
      "cell_type": "markdown",
      "metadata": {
        "id": "b4Kjvk_h1AHl",
        "colab_type": "text"
      },
      "source": [
        "#### Set Environment Variables\n",
        "Set the locations where Spark and Java are installed."
      ]
    },
    {
      "cell_type": "code",
      "metadata": {
        "id": "8Xnb_ePUyQIL",
        "colab_type": "code",
        "colab": {
          "base_uri": "https://localhost:8080/",
          "height": 85
        },
        "outputId": "19d9403c-b6cf-422b-c45f-81ef598f6969"
      },
      "source": [
        "import os\n",
        "os.environ[\"JAVA_HOME\"] = \"/usr/lib/jvm/java-8-openjdk-amd64\"\n",
        "!update-alternatives --set java /usr/lib/jvm/java-8-openjdk-amd64/jre/bin/java\n",
        "!java -version\n",
        "# os.environ[\"SPARK_HOME\"] = \"/content/spark-2.4.5-bin-hadoop2.7\""
      ],
      "execution_count": 2,
      "outputs": [
        {
          "output_type": "stream",
          "text": [
            "update-alternatives: using /usr/lib/jvm/java-8-openjdk-amd64/jre/bin/java to provide /usr/bin/java (java) in manual mode\n",
            "openjdk version \"1.8.0_252\"\n",
            "OpenJDK Runtime Environment (build 1.8.0_252-8u252-b09-1~18.04-b09)\n",
            "OpenJDK 64-Bit Server VM (build 25.252-b09, mixed mode)\n"
          ],
          "name": "stdout"
        }
      ]
    },
    {
      "cell_type": "code",
      "metadata": {
        "id": "F9tp4EIpK_1o",
        "colab_type": "code",
        "colab": {}
      },
      "source": [
        ""
      ],
      "execution_count": 2,
      "outputs": []
    },
    {
      "cell_type": "markdown",
      "metadata": {
        "id": "zqLC_1yCdr57",
        "colab_type": "text"
      },
      "source": [
        "## Apache SystemDS"
      ]
    },
    {
      "cell_type": "markdown",
      "metadata": {
        "id": "XGuWF9w4d-LW",
        "colab_type": "text"
      },
      "source": [
        "#### Setup"
      ]
    },
    {
      "cell_type": "code",
      "metadata": {
        "id": "PZkw_gPEQvId",
        "colab_type": "code",
        "colab": {}
      },
      "source": [
        "# Run and print a shell command.\n",
        "def run(cmd):\n",
        "  print('>> {}'.format(cmd))\n",
        "  !{cmd}\n",
        "  print('')\n"
      ],
      "execution_count": 3,
      "outputs": []
    },
    {
      "cell_type": "markdown",
      "metadata": {
        "id": "BhmBWf3u3Q0o",
        "colab_type": "text"
      },
      "source": [
        "#### Install Apache Maven"
      ]
    },
    {
      "cell_type": "code",
      "metadata": {
        "id": "I81zPDcblchL",
        "colab_type": "code",
        "colab": {
          "base_uri": "https://localhost:8080/",
          "height": 238
        },
        "outputId": "cba220ef-29aa-4000-ca08-eb5c3d0dc9cc"
      },
      "source": [
        "import os\n",
        "\n",
        "# Download the maven source.\n",
        "maven_version = 'apache-maven-3.6.3'\n",
        "maven_path = f\"/opt/{maven_version}\"\n",
        "if not os.path.exists(maven_path):\n",
        "  run(f\"wget -q -nc -O apache-maven.zip https://downloads.apache.org/maven/maven-3/3.6.3/binaries/{maven_version}-bin.zip\")\n",
        "  run('unzip -q -d /opt apache-maven.zip')\n",
        "  run('rm -f apache-maven.zip')\n",
        "\n",
        "# Let's choose the absolute path instead of $PATH environment variable.\n",
        "def maven(args):\n",
        "  run(f\"{maven_path}/bin/mvn {args}\")\n",
        "\n",
        "maven('-v')\n"
      ],
      "execution_count": 4,
      "outputs": [
        {
          "output_type": "stream",
          "text": [
            ">> wget -q -nc -O apache-maven.zip https://downloads.apache.org/maven/maven-3/3.6.3/binaries/apache-maven-3.6.3-bin.zip\n",
            "\n",
            ">> unzip -q -d /opt apache-maven.zip\n",
            "\n",
            ">> rm -f apache-maven.zip\n",
            "\n",
            ">> /opt/apache-maven-3.6.3/bin/mvn -v\n",
            "\u001b[1mApache Maven 3.6.3 (cecedd343002696d0abb50b32b541b8a6ba2883f)\u001b[m\n",
            "Maven home: /opt/apache-maven-3.6.3\n",
            "Java version: 1.8.0_252, vendor: Private Build, runtime: /usr/lib/jvm/java-8-openjdk-amd64/jre\n",
            "Default locale: en_US, platform encoding: UTF-8\n",
            "OS name: \"linux\", version: \"4.19.104+\", arch: \"amd64\", family: \"unix\"\n",
            "\n"
          ],
          "name": "stdout"
        }
      ]
    },
    {
      "cell_type": "markdown",
      "metadata": {
        "id": "Xphbe3R43XLw",
        "colab_type": "text"
      },
      "source": [
        "#### Download Apache Spark"
      ]
    },
    {
      "cell_type": "markdown",
      "metadata": {
        "id": "_WgEa00pTs3w",
        "colab_type": "text"
      },
      "source": [
        "NOTE: If spark is not downloaded. Let us make sure the version we are trying to download is officially supported at\n",
        "https://spark.apache.org/downloads.html"
      ]
    },
    {
      "cell_type": "code",
      "metadata": {
        "id": "3zdtkFkLnskx",
        "colab_type": "code",
        "colab": {
          "base_uri": "https://localhost:8080/",
          "height": 119
        },
        "outputId": "b305d31c-72f0-4a75-dae6-7e8b13ae5a3d"
      },
      "source": [
        "# Spark and Hadoop version\n",
        "spark_version = 'spark-2.4.6'\n",
        "hadoop_version = 'hadoop2.7'\n",
        "spark_path = f\"/opt/{spark_version}-bin-{hadoop_version}\"\n",
        "if not os.path.exists(spark_path):\n",
        "  run(f\"wget -q -nc -O apache-spark.tgz https://downloads.apache.org/spark/{spark_version}/{spark_version}-bin-{hadoop_version}.tgz\")\n",
        "  run('tar zxf apache-spark.tgz -C /opt')\n",
        "  run('rm -f apache-spark.tgz')\n",
        "\n",
        "os.environ[\"SPARK_HOME\"] = spark_path\n",
        "os.environ[\"PATH\"] += \":$SPARK_HOME/bin\"\n"
      ],
      "execution_count": 5,
      "outputs": [
        {
          "output_type": "stream",
          "text": [
            ">> wget -q -nc -O apache-spark.tgz https://downloads.apache.org/spark/spark-2.4.6/spark-2.4.6-bin-hadoop2.7.tgz\n",
            "\n",
            ">> tar zxf apache-spark.tgz -C /opt\n",
            "\n",
            ">> rm -f apache-spark.tgz\n",
            "\n"
          ],
          "name": "stdout"
        }
      ]
    },
    {
      "cell_type": "markdown",
      "metadata": {
        "id": "91pJ5U8k3cjk",
        "colab_type": "text"
      },
      "source": [
        "#### Get Apache SystemDS"
      ]
    },
    {
      "cell_type": "code",
      "metadata": {
        "id": "SaPIprmg3lKE",
        "colab_type": "code",
        "colab": {
          "base_uri": "https://localhost:8080/",
          "height": 153
        },
        "outputId": "3fa94205-d4f5-42e4-b3f4-cd1f2d873035"
      },
      "source": [
        "!git clone https://github.com/apache/systemds systemds\n",
        "%cd systemds"
      ],
      "execution_count": 6,
      "outputs": [
        {
          "output_type": "stream",
          "text": [
            "Cloning into 'systemds'...\n",
            "remote: Enumerating objects: 4, done.\u001b[K\n",
            "remote: Counting objects:  25% (1/4)\u001b[K\rremote: Counting objects:  50% (2/4)\u001b[K\rremote: Counting objects:  75% (3/4)\u001b[K\rremote: Counting objects: 100% (4/4)\u001b[K\rremote: Counting objects: 100% (4/4), done.\u001b[K\n",
            "remote: Compressing objects: 100% (4/4), done.\u001b[K\n",
            "remote: Total 155638 (delta 0), reused 1 (delta 0), pack-reused 155634\u001b[K\n",
            "Receiving objects: 100% (155638/155638), 226.28 MiB | 22.37 MiB/s, done.\n",
            "Resolving deltas: 100% (100687/100687), done.\n",
            "/content/systemds\n"
          ],
          "name": "stdout"
        }
      ]
    },
    {
      "cell_type": "code",
      "metadata": {
        "id": "s0Iorb0ICgHa",
        "colab_type": "code",
        "colab": {
          "base_uri": "https://localhost:8080/",
          "height": 51
        },
        "outputId": "06ff7e4e-c434-40d2-86c5-c3646181a02d"
      },
      "source": [
        "# Logging flags: -q only for ERROR; -X for DEBUG; -e for ERROR\n",
        "maven('clean package -P distribution')"
      ],
      "execution_count": 7,
      "outputs": [
        {
          "output_type": "stream",
          "text": [
            ">> /opt/apache-maven-3.6.3/bin/mvn clean package -q\n",
            "\n"
          ],
          "name": "stdout"
        }
      ]
    },
    {
      "cell_type": "code",
      "metadata": {
        "id": "AqM2YNWLNhZm",
        "colab_type": "code",
        "colab": {}
      },
      "source": [
        "# Example Classification task\n",
        "# !$SPARK_HOME/bin/spark-submit ./target/SystemDS.jar -f ./scripts/nn/examples/fm-binclass-dummy-data.dml"
      ],
      "execution_count": 8,
      "outputs": []
    },
    {
      "cell_type": "markdown",
      "metadata": {
        "id": "xhMXM8BPltGc",
        "colab_type": "text"
      },
      "source": [
        "#### Playground for DML\n",
        "\n",
        "The following code cell is for dml code."
      ]
    },
    {
      "cell_type": "code",
      "metadata": {
        "id": "t59rTyNbOF5b",
        "colab_type": "code",
        "colab": {
          "base_uri": "https://localhost:8080/",
          "height": 34
        },
        "outputId": "85e20308-3937-4346-9970-50788ce07121"
      },
      "source": [
        "%%writefile /content/test.dml\n",
        "\n",
        "# This code code acts as a playground for dml code\n",
        "X = rand (rows = 20, cols = 10)\n",
        "y = X %*% rand(rows = ncol(X), cols = 1)\n",
        "lm(X = X, y = y)"
      ],
      "execution_count": 9,
      "outputs": [
        {
          "output_type": "stream",
          "text": [
            "Writing /content/test.dml\n"
          ],
          "name": "stdout"
        }
      ]
    },
    {
      "cell_type": "markdown",
      "metadata": {
        "id": "OFtyIIJqmD_6",
        "colab_type": "text"
      },
      "source": [
        "Run `dml` with Spark backend"
      ]
    },
    {
      "cell_type": "code",
      "metadata": {
        "id": "kYosPWguO7DO",
        "colab_type": "code",
        "colab": {
          "base_uri": "https://localhost:8080/",
          "height": 394
        },
        "outputId": "6836cfef-cd3e-4f0b-bb81-c62a1335ac9e"
      },
      "source": [
        "!$SPARK_HOME/bin/spark-submit \\\n",
        "    ./target/SystemDS.jar -f /content/test.dml \n"
      ],
      "execution_count": 10,
      "outputs": [
        {
          "output_type": "stream",
          "text": [
            "20/07/22 21:07:56 WARN NativeCodeLoader: Unable to load native-hadoop library for your platform... using builtin-java classes where applicable\n",
            "log4j:WARN No appenders could be found for logger (org.apache.sysds.api.DMLScript).\n",
            "log4j:WARN Please initialize the log4j system properly.\n",
            "log4j:WARN See http://logging.apache.org/log4j/1.2/faq.html#noconfig for more info.\n",
            "ANTLR Tool version 4.5.3 used for code generation does not match the current runtime version 4.7ANTLR Runtime version 4.5.3 used for parser compilation does not match the current runtime version 4.7ANTLR Tool version 4.5.3 used for code generation does not match the current runtime version 4.7ANTLR Runtime version 4.5.3 used for parser compilation does not match the current runtime version 4.7Calling the Direct Solver...\n",
            "Computing the statistics...\n",
            "AVG_TOT_Y, 2.1068023514774974\n",
            "STDEV_TOT_Y, 0.6111885165234278\n",
            "AVG_RES_Y, 4.0434250725418505E-9\n",
            "STDEV_RES_Y, 2.0038801747418575E-8\n",
            "DISPERSION, 3.9409679055963126E-16\n",
            "R2, 0.9999999999999994\n",
            "ADJUSTED_R2, 0.9999999999999989\n",
            "R2_NOBIAS, 0.9999999999999994\n",
            "ADJUSTED_R2_NOBIAS, 0.9999999999999989\n",
            "R2_VS_0, 1.0\n",
            "ADJUSTED_R2_VS_0, 0.9999999999999999\n",
            "SystemDS Statistics:\n",
            "Total execution time:\t\t0.122 sec.\n",
            "Number of executed Spark inst:\t0.\n",
            "\n"
          ],
          "name": "stdout"
        }
      ]
    },
    {
      "cell_type": "markdown",
      "metadata": {
        "id": "VktUYbwsgCzL",
        "colab_type": "text"
      },
      "source": [
        "## Working with ONNX import\n",
        "\n",
        "Import ONNX graph to dml based scripts."
      ]
    },
    {
      "cell_type": "code",
      "metadata": {
        "id": "zP4zqRYkbJkc",
        "colab_type": "code",
        "colab": {
          "base_uri": "https://localhost:8080/",
          "height": 122
        },
        "outputId": "c23734f7-c38a-4ccd-fb12-33711c56a136"
      },
      "source": [
        "!pip install py4j"
      ],
      "execution_count": 26,
      "outputs": [
        {
          "output_type": "stream",
          "text": [
            "Collecting py4j\n",
            "\u001b[?25l  Downloading https://files.pythonhosted.org/packages/9e/b6/6a4fb90cd235dc8e265a6a2067f2a2c99f0d91787f06aca4bcf7c23f3f80/py4j-0.10.9-py2.py3-none-any.whl (198kB)\n",
            "\r\u001b[K     |█▋                              | 10kB 13.3MB/s eta 0:00:01\r\u001b[K     |███▎                            | 20kB 1.6MB/s eta 0:00:01\r\u001b[K     |█████                           | 30kB 2.2MB/s eta 0:00:01\r\u001b[K     |██████▋                         | 40kB 2.5MB/s eta 0:00:01\r\u001b[K     |████████▎                       | 51kB 2.0MB/s eta 0:00:01\r\u001b[K     |██████████                      | 61kB 2.1MB/s eta 0:00:01\r\u001b[K     |███████████▌                    | 71kB 2.4MB/s eta 0:00:01\r\u001b[K     |█████████████▏                  | 81kB 2.7MB/s eta 0:00:01\r\u001b[K     |██████████████▉                 | 92kB 2.8MB/s eta 0:00:01\r\u001b[K     |████████████████▌               | 102kB 2.7MB/s eta 0:00:01\r\u001b[K     |██████████████████▏             | 112kB 2.7MB/s eta 0:00:01\r\u001b[K     |███████████████████▉            | 122kB 2.7MB/s eta 0:00:01\r\u001b[K     |█████████████████████▌          | 133kB 2.7MB/s eta 0:00:01\r\u001b[K     |███████████████████████         | 143kB 2.7MB/s eta 0:00:01\r\u001b[K     |████████████████████████▊       | 153kB 2.7MB/s eta 0:00:01\r\u001b[K     |██████████████████████████▍     | 163kB 2.7MB/s eta 0:00:01\r\u001b[K     |████████████████████████████    | 174kB 2.7MB/s eta 0:00:01\r\u001b[K     |█████████████████████████████▊  | 184kB 2.7MB/s eta 0:00:01\r\u001b[K     |███████████████████████████████▍| 194kB 2.7MB/s eta 0:00:01\r\u001b[K     |████████████████████████████████| 204kB 2.7MB/s \n",
            "\u001b[?25hInstalling collected packages: py4j\n",
            "Successfully installed py4j-0.10.9\n"
          ],
          "name": "stdout"
        }
      ]
    },
    {
      "cell_type": "code",
      "metadata": {
        "id": "2TkOAfC6bQH8",
        "colab_type": "code",
        "colab": {
          "base_uri": "https://localhost:8080/",
          "height": 207
        },
        "outputId": "46312655-ec14-4265-b6c8-6058c29bede9"
      },
      "source": [
        "!pip install onnx"
      ],
      "execution_count": 28,
      "outputs": [
        {
          "output_type": "stream",
          "text": [
            "Collecting onnx\n",
            "\u001b[?25l  Downloading https://files.pythonhosted.org/packages/36/ee/bc7bc88fc8449266add978627e90c363069211584b937fd867b0ccc59f09/onnx-1.7.0-cp36-cp36m-manylinux1_x86_64.whl (7.4MB)\n",
            "\u001b[K     |████████████████████████████████| 7.4MB 2.8MB/s \n",
            "\u001b[?25hRequirement already satisfied: six in /usr/local/lib/python3.6/dist-packages (from onnx) (1.15.0)\n",
            "Requirement already satisfied: protobuf in /usr/local/lib/python3.6/dist-packages (from onnx) (3.12.2)\n",
            "Requirement already satisfied: typing-extensions>=3.6.2.1 in /usr/local/lib/python3.6/dist-packages (from onnx) (3.7.4.2)\n",
            "Requirement already satisfied: numpy in /usr/local/lib/python3.6/dist-packages (from onnx) (1.18.5)\n",
            "Requirement already satisfied: setuptools in /usr/local/lib/python3.6/dist-packages (from protobuf->onnx) (49.1.0)\n",
            "Installing collected packages: onnx\n",
            "Successfully installed onnx-1.7.0\n"
          ],
          "name": "stdout"
        }
      ]
    },
    {
      "cell_type": "code",
      "metadata": {
        "id": "AEQLzY9ZeTit",
        "colab_type": "code",
        "colab": {}
      },
      "source": [
        "!python tests/onnx_systemds/test_models/model_generate.py"
      ],
      "execution_count": 37,
      "outputs": []
    },
    {
      "cell_type": "code",
      "metadata": {
        "id": "JU_w13s6YEjd",
        "colab_type": "code",
        "colab": {
          "base_uri": "https://localhost:8080/",
          "height": 51
        },
        "outputId": "ee284144-9cfe-409d-cc24-f86d003e3194"
      },
      "source": [
        "%cd src/main/python\n",
        "#!ls\n",
        "#!python3 ./create_python_dist.py\n",
        "#!cat tests/onnx/test_models/test_simple.TestSimpleOperators\n",
        "!python -m systemds.onnx_systemds.convert tests/onnx_systemds/test_models/simple_if_graph.onnx"
      ],
      "execution_count": 53,
      "outputs": [
        {
          "output_type": "stream",
          "text": [
            "/content/systemds/src/main/python\n",
            "ERROR environment variable SYSTEMDS_ROOT_PATH not set could not resolve path to module\n"
          ],
          "name": "stdout"
        }
      ]
    },
    {
      "cell_type": "code",
      "metadata": {
        "id": "io6O3z0Ue-0n",
        "colab_type": "code",
        "colab": {
          "base_uri": "https://localhost:8080/",
          "height": 799
        },
        "outputId": "0aa41bd8-2476-44ff-cd0d-a4fb53d193fb"
      },
      "source": [
        "!cat simple_mat_add.dml"
      ],
      "execution_count": 40,
      "outputs": [
        {
          "output_type": "stream",
          "text": [
            "\n",
            "### This file was generated by onnx-systemds\n",
            "\n",
            "# -------------------------------------------------------------\n",
            "# Model\n",
            "#  ir_version: 7\n",
            "#  producer_name: onnx-systemds test-graph generator\n",
            "#  model_version: 0\n",
            "# opset_import:\n",
            "#  - domain/opset = ONNX/12\n",
            "# -------------------------------------------------------------\n",
            "\n",
            "\n",
            "\n",
            "# Doc string of a simple matrix addition test graph\n",
            "# --------------------------------------------------------------------------------------------\n",
            "# INPUT PARAMETERS:\n",
            "# --------------------------------------------------------------------------------------------\n",
            "# NAME            TYPE     VALUE_TYPE   SHAPE    MEANING   \n",
            "# A               matrix   double       [2, 2]   This is a description of variable A\n",
            "# B               matrix   double       [2, 2]   This is a description of variable B\n",
            "# D               matrix   double       [2, 2]   This is a description of variable D\n",
            "# ---------------------------------------------------------------------------------------------\n",
            "# OUTPUTS:\n",
            "# ---------------------------------------------------------------------------------------------\n",
            "# NAME            TYPE     VALUE_TYPE   SHAPE    MEANING   \n",
            "# F               matrix   double       [2, 2]   This is a description of variable F\n",
            "# ---------------------------------------------------------------------------------------------\n",
            "gen_a_simple_matrix_addition_test_graph = function(\n",
            "  matrix [double] A,\n",
            "  matrix [double] B,\n",
            "  matrix [double] D\n",
            ")\n",
            "return (\n",
            "  matrix [double] F\n",
            ") {\n",
            "    \n",
            "    # This is a description of this Add operation \n",
            "    C = (A + B)\n",
            "    \n",
            "    # This is a description of this mul operation \n",
            "    E = (C + D)\n",
            "    \n",
            "\n",
            "    F = (A + E)\n",
            "}"
          ],
          "name": "stdout"
        }
      ]
    },
    {
      "cell_type": "markdown",
      "metadata": {
        "id": "SUGac5w9ZRBQ",
        "colab_type": "text"
      },
      "source": [
        "### Working with SystemDS **Standalone**\n",
        "\n",
        "(NOTE: Pay attention to *directories* and *relative paths*. :))"
      ]
    },
    {
      "cell_type": "markdown",
      "metadata": {
        "id": "g5Nk2Bb4UU2O",
        "colab_type": "text"
      },
      "source": [
        "##### 1. Set SystemDS environement variables\n",
        "\n",
        "These are useful for the `./bin/systemds` script."
      ]
    },
    {
      "cell_type": "code",
      "metadata": {
        "id": "Qc0pOC2ygpMa",
        "colab_type": "code",
        "colab": {
          "base_uri": "https://localhost:8080/",
          "height": 34
        },
        "outputId": "d89e5133-4ba1-47d6-c14e-1f20362cb291"
      },
      "source": [
        "%cd /content/systemds"
      ],
      "execution_count": 48,
      "outputs": [
        {
          "output_type": "stream",
          "text": [
            "/content/systemds\n"
          ],
          "name": "stdout"
        }
      ]
    },
    {
      "cell_type": "code",
      "metadata": {
        "id": "Ije4sxMZhH-r",
        "colab_type": "code",
        "colab": {
          "base_uri": "https://localhost:8080/",
          "height": 34
        },
        "outputId": "147b810b-d182-46d9-84b3-4e6f693b062c"
      },
      "source": [
        "!echo $(pwd)"
      ],
      "execution_count": 50,
      "outputs": [
        {
          "output_type": "stream",
          "text": [
            "/content/systemds\n"
          ],
          "name": "stdout"
        }
      ]
    },
    {
      "cell_type": "code",
      "metadata": {
        "id": "2ZnSzkq8UT32",
        "colab_type": "code",
        "colab": {}
      },
      "source": [
        "!export SYSTEMDS_ROOT=$(pwd)\n",
        "!export SYSTEMDS_ROOT_PATH=$(pwd)\n",
        "!export PATH=$SYSTEMDS_ROOT/bin:$PATH"
      ],
      "execution_count": 52,
      "outputs": []
    },
    {
      "cell_type": "code",
      "metadata": {
        "id": "Tcxkh8cdUy1V",
        "colab_type": "code",
        "colab": {}
      },
      "source": [
        "!echo 'export SYSTEMDS_ROOT='$(pwd) >> ~/.bashrc\n",
        "!echo 'export SYSTEMDS_ROOT_PATH='$(pwd) >> ~/.bashrc\n",
        "!echo 'export PATH=$SYSTEMDS_ROOT/bin:$PATH' >> ~/.bashrc"
      ],
      "execution_count": 51,
      "outputs": []
    },
    {
      "cell_type": "markdown",
      "metadata": {
        "id": "zyLmFCv6ZYk5",
        "colab_type": "text"
      },
      "source": [
        "##### 2. Download Haberman data"
      ]
    },
    {
      "cell_type": "code",
      "metadata": {
        "id": "ZrQFBQehV8SF",
        "colab_type": "code",
        "colab": {}
      },
      "source": [
        "!mkdir ../data"
      ],
      "execution_count": null,
      "outputs": []
    },
    {
      "cell_type": "code",
      "metadata": {
        "id": "E1ZFCTFmXFY_",
        "colab_type": "code",
        "colab": {
          "base_uri": "https://localhost:8080/",
          "height": 204
        },
        "outputId": "8533e014-7112-49e1-d598-5ad49f119ad9"
      },
      "source": [
        "!wget -P ../data/ http://archive.ics.uci.edu/ml/machine-learning-databases/haberman/haberman.data"
      ],
      "execution_count": null,
      "outputs": [
        {
          "output_type": "stream",
          "text": [
            "--2020-07-18 05:19:39--  http://archive.ics.uci.edu/ml/machine-learning-databases/haberman/haberman.data\n",
            "Resolving archive.ics.uci.edu (archive.ics.uci.edu)... 128.195.10.252\n",
            "Connecting to archive.ics.uci.edu (archive.ics.uci.edu)|128.195.10.252|:80... connected.\n",
            "HTTP request sent, awaiting response... 200 OK\n",
            "Length: 3103 (3.0K) [application/x-httpd-php]\n",
            "Saving to: ‘../data/haberman.data’\n",
            "\n",
            "\rhaberman.data         0%[                    ]       0  --.-KB/s               \rhaberman.data       100%[===================>]   3.03K  --.-KB/s    in 0s      \n",
            "\n",
            "2020-07-18 05:19:39 (266 MB/s) - ‘../data/haberman.data’ saved [3103/3103]\n",
            "\n"
          ],
          "name": "stdout"
        }
      ]
    },
    {
      "cell_type": "markdown",
      "metadata": {
        "id": "Oy2kgVdkaeWK",
        "colab_type": "text"
      },
      "source": [
        "##### 2.1 Set `metadata` for the data"
      ]
    },
    {
      "cell_type": "code",
      "metadata": {
        "id": "vfypIgJWXT6K",
        "colab_type": "code",
        "colab": {}
      },
      "source": [
        "# generate metadata file for the dataset\n",
        "!echo '{\"rows\": 306, \"cols\": 4, \"format\": \"csv\"}' > ../data/haberman.data.mtd\n",
        "\n",
        "# generate type description for the data\n",
        "!echo '1,1,1,2' > ../data/types.csv\n",
        "!echo '{\"rows\": 1, \"cols\": 4, \"format\": \"csv\"}' > ../data/types.csv.mtd"
      ],
      "execution_count": null,
      "outputs": []
    },
    {
      "cell_type": "markdown",
      "metadata": {
        "id": "7Vis3V31bA53",
        "colab_type": "text"
      },
      "source": [
        "##### 3. Find the algorithm to run with `systemds`"
      ]
    },
    {
      "cell_type": "code",
      "metadata": {
        "id": "L_0KosFhbhun",
        "colab_type": "code",
        "colab": {
          "base_uri": "https://localhost:8080/",
          "height": 51
        },
        "outputId": "80a6bb4b-5817-4e35-86c1-ed79747345f9"
      },
      "source": [
        "# Inspect the directory structure\n",
        "!ls"
      ],
      "execution_count": null,
      "outputs": [
        {
          "output_type": "stream",
          "text": [
            "bin   CONTRIBUTING.md  docker  LICENSE\tpom.xml    scratch_space  src\n",
            "conf  dev\t       docs    NOTICE\tREADME.md  scripts\t  target\n"
          ],
          "name": "stdout"
        }
      ]
    },
    {
      "cell_type": "code",
      "metadata": {
        "id": "R7C5DVM7YfTb",
        "colab_type": "code",
        "colab": {
          "base_uri": "https://localhost:8080/",
          "height": 221
        },
        "outputId": "8d529161-02d2-4168-b405-0daf2b8d9cd7"
      },
      "source": [
        "# List all the scripts\n",
        "!ls scripts/algorithms"
      ],
      "execution_count": null,
      "outputs": [
        {
          "output_type": "stream",
          "text": [
            "ALS-CG.dml\t\t   GLM.dml\t       naive-bayes.dml\n",
            "ALS-DS.dml\t\t   GLM-predict.dml     naive-bayes-predict.dml\n",
            "ALS_predict.dml\t\t   KM.dml\t       obsolete\n",
            "ALS_topk_predict.dml\t   Kmeans.dml\t       PCA.dml\n",
            "apply-transform.dml\t   Kmeans-predict.dml  random-forest.dml\n",
            "bivar-stats.dml\t\t   l2-svm.dml\t       random-forest-predict.dml\n",
            "Cox.dml\t\t\t   l2-svm-predict.dml  StepGLM.dml\n",
            "Cox-predict.dml\t\t   LinearRegCG.dml     StepLinearRegDS.dml\n",
            "CsplineCG.dml\t\t   LinearRegDS.dml     stratstats.dml\n",
            "CsplineDS.dml\t\t   m-svm.dml\t       transform.dml\n",
            "decision-tree.dml\t   m-svm-predict.dml   Univar-Stats.dml\n",
            "decision-tree-predict.dml  MultiLogReg.dml\n"
          ],
          "name": "stdout"
        }
      ]
    },
    {
      "cell_type": "code",
      "metadata": {
        "id": "zv_7wRPFSeuJ",
        "colab_type": "code",
        "colab": {
          "base_uri": "https://localhost:8080/",
          "height": 1000
        },
        "outputId": "f9135dad-7a5d-43a2-f37e-20e355c9a2be"
      },
      "source": [
        "!./bin/systemds ./scripts/algorithms/Univar-Stats.dml -nvargs X=../data/haberman.data TYPES=../data/types.csv STATS=../data/univarOut.mtx CONSOLE_OUTPUT=TRUE"
      ],
      "execution_count": null,
      "outputs": [
        {
          "output_type": "stream",
          "text": [
            "###############################################################################\n",
            "#  SYSTEMDS_ROOT= .\n",
            "#  SYSTEMDS_JAR_FILE= target/SystemDS.jar\n",
            "#  CONFIG_FILE= \n",
            "#  LOG4JPROP= -Dlog4j.configuration=file:conf/log4j-silent.properties\n",
            "#  CLASSPATH= target/SystemDS.jar:./lib/*:./target/lib/*\n",
            "#  HADOOP_HOME= /content/systemds/target/hadoop-test/org/apache/hadoop\n",
            "#\n",
            "#  Running script ./scripts/algorithms/Univar-Stats.dml locally with opts: -nvargs X=../data/haberman.data TYPES=../data/types.csv STATS=../data/univarOut.mtx CONSOLE_OUTPUT=TRUE\n",
            "###############################################################################\n",
            "Executing command:     java       -Xmx4g      -Xms4g      -Xmn400m   -cp target/SystemDS.jar:./lib/*:./target/lib/*   -Dlog4j.configuration=file:conf/log4j-silent.properties   org.apache.sysds.api.DMLScript   -f ./scripts/algorithms/Univar-Stats.dml   -exec singlenode      -nvargs X=../data/haberman.data TYPES=../data/types.csv STATS=../data/univarOut.mtx CONSOLE_OUTPUT=TRUE\n",
            "\n",
            "20/07/18 05:26:10 INFO api.DMLScript: BEGIN DML run 07/18/2020 05:26:10\n",
            "20/07/18 05:26:10 INFO conf.DMLConfig: Using internal default configuration settings.  If you wish to customize any settings, please supply a `SystemDS-config.xml` file.\n",
            "20/07/18 05:26:11 WARN util.NativeCodeLoader: Unable to load native-hadoop library for your platform... using builtin-java classes where applicable\n",
            "20/07/18 05:26:12 INFO mapred.FileInputFormat: Total input paths to process : 1\n",
            "20/07/18 05:26:12 INFO mapred.FileInputFormat: Total input paths to process : 1\n",
            "20/07/18 05:26:12 INFO Configuration.deprecation: session.id is deprecated. Instead, use dfs.metrics.session-id\n",
            "20/07/18 05:26:12 INFO jvm.JvmMetrics: Initializing JVM Metrics with processName=JobTracker, sessionId=\n",
            "20/07/18 05:26:12 WARN opt.CostEstimator: Cannot get memory estimate for hop (op=u(castdts), name=kind, memest=60.0).\n",
            "20/07/18 05:26:12 WARN opt.CostEstimator: Cannot get memory estimate for hop (op=u(sqrt), name=std_dev, memest=16.0).\n",
            "20/07/18 05:26:12 WARN opt.CostEstimator: Cannot get memory estimate for hop (op=u(print), name=parsertemp237, memest=96.0).\n",
            "20/07/18 05:26:12 WARN opt.CostEstimator: Cannot get memory estimate for hop (op=u(castdts), name=mode, memest=60.0).\n",
            "20/07/18 05:26:12 WARN opt.CostEstimator: Cannot get memory estimate for hop (op=u(castdts), name=kind, memest=60.0).\n",
            "20/07/18 05:26:12 WARN opt.CostEstimator: Cannot get memory estimate for hop (op=u(sqrt), name=std_dev, memest=16.0).\n",
            "20/07/18 05:26:12 WARN opt.CostEstimator: Cannot get memory estimate for hop (op=u(print), name=parsertemp237, memest=96.0).\n",
            "20/07/18 05:26:12 WARN opt.CostEstimator: Cannot get memory estimate for hop (op=u(castdts), name=mode, memest=60.0).\n",
            "20/07/18 05:26:12 WARN opt.CostEstimator: Cannot get memory estimate for hop (op=u(castdts), name=kind, memest=60.0).\n",
            "20/07/18 05:26:12 WARN opt.CostEstimator: Cannot get memory estimate for hop (op=u(sqrt), name=std_dev, memest=16.0).\n",
            "20/07/18 05:26:12 WARN opt.CostEstimator: Cannot get memory estimate for hop (op=u(print), name=parsertemp237, memest=96.0).\n",
            "20/07/18 05:26:12 WARN opt.CostEstimator: Cannot get memory estimate for hop (op=u(castdts), name=mode, memest=60.0).\n",
            "20/07/18 05:26:12 WARN opt.CostEstimator: Cannot get memory estimate for hop (op=u(castdts), name=kind, memest=60.0).\n",
            "20/07/18 05:26:12 WARN opt.CostEstimator: Cannot get memory estimate for hop (op=u(sqrt), name=std_dev, memest=16.0).\n",
            "20/07/18 05:26:12 WARN opt.CostEstimator: Cannot get memory estimate for hop (op=u(print), name=parsertemp237, memest=96.0).\n",
            "20/07/18 05:26:12 WARN opt.CostEstimator: Cannot get memory estimate for hop (op=u(castdts), name=mode, memest=60.0).\n",
            "20/07/18 05:26:12 WARN opt.CostEstimator: Cannot get memory estimate for hop (op=u(castdts), name=kind, memest=60.0).\n",
            "20/07/18 05:26:12 WARN opt.CostEstimator: Cannot get memory estimate for hop (op=u(sqrt), name=std_dev, memest=16.0).\n",
            "20/07/18 05:26:12 WARN opt.CostEstimator: Cannot get memory estimate for hop (op=u(print), name=parsertemp237, memest=96.0).\n",
            "20/07/18 05:26:12 WARN opt.CostEstimator: Cannot get memory estimate for hop (op=u(castdts), name=mode, memest=60.0).\n",
            "-------------------------------------------------\n",
            "Feature [1]: Scale\n",
            " (01) Minimum             | 30.0\n",
            " (02) Maximum             | 83.0\n",
            " (03) Range               | 53.0\n",
            " (04) Mean                | 52.45751633986928\n",
            " (05) Variance            | 116.71458266366658\n",
            " (06) Std deviation       | 10.803452349303281\n",
            " (07) Std err of mean     | 0.6175922641866753\n",
            " (08) Coeff of variation  | 0.20594669940735139\n",
            " (09) Skewness            | 0.1450718616532357\n",
            " (10) Kurtosis            | -0.6150152487211726\n",
            " (11) Std err of skewness | 0.13934809593495995\n",
            " (12) Std err of kurtosis | 0.277810485320835\n",
            " (13) Median              | 52.0\n",
            " (14) Interquartile mean  | 52.16013071895425\n",
            "-------------------------------------------------\n",
            "Feature [2]: Scale\n",
            " (01) Minimum             | 58.0\n",
            " (02) Maximum             | 69.0\n",
            " (03) Range               | 11.0\n",
            " (04) Mean                | 62.85294117647059\n",
            " (05) Variance            | 10.558630665380907\n",
            " (06) Std deviation       | 3.2494046632238507\n",
            " (07) Std err of mean     | 0.18575610076612029\n",
            " (08) Coeff of variation  | 0.051698529971741194\n",
            " (09) Skewness            | 0.07798443581479181\n",
            " (10) Kurtosis            | -1.1324380182967442\n",
            " (11) Std err of skewness | 0.13934809593495995\n",
            " (12) Std err of kurtosis | 0.277810485320835\n",
            " (13) Median              | 63.0\n",
            " (14) Interquartile mean  | 62.80392156862745\n",
            "-------------------------------------------------\n",
            "Feature [3]: Scale\n",
            " (01) Minimum             | 0.0\n",
            " (02) Maximum             | 52.0\n",
            " (03) Range               | 52.0\n",
            " (04) Mean                | 4.026143790849673\n",
            " (05) Variance            | 51.691117539912135\n",
            " (06) Std deviation       | 7.189653506248555\n",
            " (07) Std err of mean     | 0.41100513466216837\n",
            " (08) Coeff of variation  | 1.7857418611299172\n",
            " (09) Skewness            | 2.954633471088322\n",
            " (10) Kurtosis            | 11.425776549251449\n",
            " (11) Std err of skewness | 0.13934809593495995\n",
            " (12) Std err of kurtosis | 0.277810485320835\n",
            " (13) Median              | 1.0\n",
            " (14) Interquartile mean  | 1.2483660130718954\n",
            "-------------------------------------------------\n",
            "0.0\n",
            " (15) Num of categories   | 2\n",
            " (16) Mode                | 1\n",
            " (17) Num of modes        | 1\n",
            "SystemDS Statistics:\n",
            "Total execution time:\t\t0.457 sec.\n",
            "\n",
            "20/07/18 05:26:12 INFO api.DMLScript: END DML run 07/18/2020 05:26:12\n"
          ],
          "name": "stdout"
        }
      ]
    },
    {
      "cell_type": "markdown",
      "metadata": {
        "id": "IqY_ARNnavrC",
        "colab_type": "text"
      },
      "source": [
        "##### 3.1 Let us inspect the output data"
      ]
    },
    {
      "cell_type": "code",
      "metadata": {
        "id": "k-_eQg9TauPi",
        "colab_type": "code",
        "colab": {
          "base_uri": "https://localhost:8080/",
          "height": 765
        },
        "outputId": "22c26b92-97f6-41dd-9c13-0179ac830752"
      },
      "source": [
        "!cat ../data/univarOut.mtx"
      ],
      "execution_count": null,
      "outputs": [
        {
          "output_type": "stream",
          "text": [
            "1 1 30.0\n",
            "1 2 58.0\n",
            "2 1 83.0\n",
            "2 2 69.0\n",
            "2 3 52.0\n",
            "3 1 53.0\n",
            "3 2 11.0\n",
            "3 3 52.0\n",
            "4 1 52.45751633986928\n",
            "4 2 62.85294117647059\n",
            "4 3 4.026143790849673\n",
            "5 1 116.71458266366658\n",
            "5 2 10.558630665380907\n",
            "5 3 51.691117539912135\n",
            "6 1 10.803452349303281\n",
            "6 2 3.2494046632238507\n",
            "6 3 7.189653506248555\n",
            "7 1 0.6175922641866753\n",
            "7 2 0.18575610076612029\n",
            "7 3 0.41100513466216837\n",
            "8 1 0.20594669940735139\n",
            "8 2 0.051698529971741194\n",
            "8 3 1.7857418611299172\n",
            "9 1 0.1450718616532357\n",
            "9 2 0.07798443581479181\n",
            "9 3 2.954633471088322\n",
            "10 1 -0.6150152487211726\n",
            "10 2 -1.1324380182967442\n",
            "10 3 11.425776549251449\n",
            "11 1 0.13934809593495995\n",
            "11 2 0.13934809593495995\n",
            "11 3 0.13934809593495995\n",
            "12 1 0.277810485320835\n",
            "12 2 0.277810485320835\n",
            "12 3 0.277810485320835\n",
            "13 1 52.0\n",
            "13 2 63.0\n",
            "13 3 1.0\n",
            "14 1 52.16013071895425\n",
            "14 2 62.80392156862745\n",
            "14 3 1.2483660130718954\n",
            "15 4 2.0\n",
            "16 4 1.0\n",
            "17 4 1.0\n"
          ],
          "name": "stdout"
        }
      ]
    }
  ]
}